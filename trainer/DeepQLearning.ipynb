{
 "cells": [
  {
   "cell_type": "code",
   "execution_count": 1,
   "metadata": {},
   "outputs": [
    {
     "name": "stderr",
     "output_type": "stream",
     "text": [
      "Using TensorFlow backend.\n"
     ]
    }
   ],
   "source": [
    "import numpy as np\n",
    "from enum import Enum\n",
    "import random \n",
    "import copy\n",
    "import pickle \n",
    "from tqdm import tqdm_notebook\n",
    "from keras.models import Sequential\n",
    "from keras.layers import Dense, Activation, LSTM, RNN, Conv2D, MaxPooling2D, Flatten, Dropout\n",
    "import time, datetime\n",
    "from IPython.display import clear_output\n",
    "from keras.models import model_from_json\n",
    "from uttt import UltimateTicTacToe\n",
    "from helper import Turns, GameState, switch_turns, current_milli_time\n",
    "import os\n",
    "import keras"
   ]
  },
  {
   "cell_type": "code",
   "execution_count": 57,
   "metadata": {},
   "outputs": [],
   "source": [
    "input_shape = (18,9,1)\n",
    "num_output_neurons = 2"
   ]
  },
  {
   "cell_type": "code",
   "execution_count": 120,
   "metadata": {},
   "outputs": [],
   "source": [
    "model = Sequential()\n",
    "model.add(Conv2D(32, kernel_size=(3, 3),\n",
    "                 activation='relu',\n",
    "                 input_shape=(18,9,1)))\n",
    "model.add(Conv2D(64, (3, 3), activation='relu'))\n",
    "model.add(Conv2D(64, (3, 3), activation='relu'))\n",
    "model.add(Flatten())\n",
    "model.add(Dense(128, activation='relu'))\n",
    "model.add(Dense(2, activation='softmax'))\n",
    "\n",
    "\n",
    "model.compile(loss='categorical_crossentropy',\n",
    "              optimizer=keras.optimizers.Adadelta(),\n",
    "              metrics=['accuracy'])"
   ]
  },
  {
   "cell_type": "code",
   "execution_count": 59,
   "metadata": {},
   "outputs": [],
   "source": [
    "def save(model):\n",
    "    timestamp = datetime.datetime.fromtimestamp(time.time()).strftime('%Y-%m-%d %H:%M:%S')\n",
    "    # saving the model\n",
    "    model_json = model.to_json()\n",
    "    filename = \"models/\"+timestamp\n",
    "    os.makedirs(filename, exist_ok=True)\n",
    "    with open(\"models/\"+timestamp+\"/model.json\", \"w\") as json_file:\n",
    "        json_file.write(model_json)\n",
    "    # serialize weights to HDF5\n",
    "    model.save_weights(\"models/\"+timestamp+\"/weights.h5\")\n",
    "    print(\"Saved model to disk as with \"+timestamp+\" timestamp\")"
   ]
  },
  {
   "cell_type": "code",
   "execution_count": 60,
   "metadata": {},
   "outputs": [],
   "source": [
    "initial_board = np.array([np.zeros(9) for _ in range(9)])\n",
    "UTTT = UltimateTicTacToe(board=initial_board,last_turn=None)"
   ]
  },
  {
   "cell_type": "code",
   "execution_count": 75,
   "metadata": {},
   "outputs": [],
   "source": [
    "def play_a_random_game(): # returns the memory of the game with the winner\n",
    "    memory = []\n",
    "    uttt = copy.deepcopy(UTTT)\n",
    "    simulation_turn = Turns.X.value\n",
    "    while not uttt.is_game_done():\n",
    "        old_board = uttt.get_board_list().flatten()\n",
    "        move = random.choice(uttt.get_free_moves())\n",
    "        uttt.move(simulation_turn,*move)\n",
    "        new_board = uttt.get_board_list().flatten()\n",
    "        state = np.concatenate((old_board,new_board),axis=0) \n",
    "        simulation_turn = switch_turns(simulation_turn)\n",
    "        memory.append(state.reshape(18,9,1))\n",
    "    winner = uttt.get_winner() if uttt.get_winner() != None else 0\n",
    "    return memory, winner"
   ]
  },
  {
   "cell_type": "code",
   "execution_count": 97,
   "metadata": {},
   "outputs": [],
   "source": [
    "def feature_and_label_of_memory(memory_len, winner, q_val=0.6, stretch=1):\n",
    "    labels = []\n",
    "    for i in range(memory_len):\n",
    "        label = None\n",
    "        value = q_val**(memory_len-(i+1)) * stretch\n",
    "        if winner==Turns.X.value:\n",
    "            label = np.array([value,0])\n",
    "        elif winner==Turns.O.value:\n",
    "            label = np.array([0,value])\n",
    "        else:\n",
    "            half_prob = value\n",
    "            label = np.array([half_prob, half_prob])\n",
    "        labels.append(label)\n",
    "    return labels"
   ]
  },
  {
   "cell_type": "code",
   "execution_count": 122,
   "metadata": {},
   "outputs": [
    {
     "data": {
      "application/vnd.jupyter.widget-view+json": {
       "model_id": "fde92b0ded4141a986138e8834332047",
       "version_major": 2,
       "version_minor": 0
      },
      "text/plain": [
       "HBox(children=(IntProgress(value=0, description='Batch Run...', max=1000), HTML(value='')))"
      ]
     },
     "metadata": {},
     "output_type": "display_data"
    },
    {
     "name": "stdout",
     "output_type": "stream",
     "text": [
      "\n"
     ]
    }
   ],
   "source": [
    "BATCH_SIZE = 1000\n",
    "features, labels = [], []\n",
    "for _ in tqdm_notebook(range(BATCH_SIZE),desc=\"Batch Run...\"):\n",
    "    feature, winner = play_a_random_game()\n",
    "    label = feature_and_label_of_memory(len(feature), winner)\n",
    "    features.extend(feature)\n",
    "    labels.extend(label)\n",
    "features = np.array(features)\n",
    "labels = np.array(labels)"
   ]
  },
  {
   "cell_type": "code",
   "execution_count": 123,
   "metadata": {},
   "outputs": [
    {
     "name": "stdout",
     "output_type": "stream",
     "text": [
      "Epoch 1/10\n",
      "58286/58286 [==============================] - 3s 49us/step - loss: 0.0372 - acc: 0.6203\n",
      "Epoch 2/10\n",
      "58286/58286 [==============================] - 3s 48us/step - loss: 0.0340 - acc: 0.6293\n",
      "Epoch 3/10\n",
      "58286/58286 [==============================] - 3s 56us/step - loss: 0.0287 - acc: 0.6451\n",
      "Epoch 4/10\n",
      "58286/58286 [==============================] - 3s 47us/step - loss: 0.0229 - acc: 0.6651\n",
      "Epoch 5/10\n",
      "58286/58286 [==============================] - 3s 49us/step - loss: 0.0200 - acc: 0.6757\n",
      "Epoch 6/10\n",
      "58286/58286 [==============================] - 3s 44us/step - loss: 0.0189 - acc: 0.6741\n",
      "Epoch 7/10\n",
      "58286/58286 [==============================] - 3s 53us/step - loss: 0.0183 - acc: 0.6813\n",
      "Epoch 8/10\n",
      "58286/58286 [==============================] - 3s 48us/step - loss: 0.0180 - acc: 0.6782\n",
      "Epoch 9/10\n",
      "58286/58286 [==============================] - 3s 49us/step - loss: 0.0177 - acc: 0.6806\n",
      "Epoch 10/10\n",
      "58286/58286 [==============================] - 3s 45us/step - loss: 0.0175 - acc: 0.6845\n"
     ]
    },
    {
     "data": {
      "text/plain": [
       "<keras.callbacks.History at 0x7fc8241eaa90>"
      ]
     },
     "execution_count": 123,
     "metadata": {},
     "output_type": "execute_result"
    }
   ],
   "source": [
    "model.fit(features, labels, epochs=10, batch_size=100)"
   ]
  },
  {
   "cell_type": "code",
   "execution_count": 124,
   "metadata": {},
   "outputs": [
    {
     "name": "stdout",
     "output_type": "stream",
     "text": [
      "Saved model to disk as with 2018-07-30 19:39:39 timestamp\n"
     ]
    }
   ],
   "source": [
    "save(model)"
   ]
  }
 ],
 "metadata": {
  "kernelspec": {
   "display_name": "Python 3",
   "language": "python",
   "name": "python3"
  },
  "language_info": {
   "codemirror_mode": {
    "name": "ipython",
    "version": 3
   },
   "file_extension": ".py",
   "mimetype": "text/x-python",
   "name": "python",
   "nbconvert_exporter": "python",
   "pygments_lexer": "ipython3",
   "version": "3.6.5"
  }
 },
 "nbformat": 4,
 "nbformat_minor": 2
}
