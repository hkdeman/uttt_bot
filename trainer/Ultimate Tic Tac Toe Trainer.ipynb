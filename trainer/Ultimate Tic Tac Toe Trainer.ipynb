{
 "cells": [
  {
   "cell_type": "code",
   "execution_count": 1,
   "metadata": {},
   "outputs": [
    {
     "name": "stderr",
     "output_type": "stream",
     "text": [
      "Using TensorFlow backend.\n"
     ]
    }
   ],
   "source": [
    "import numpy as np\n",
    "from enum import Enum\n",
    "import random \n",
    "import copy\n",
    "import pickle \n",
    "from tqdm import tqdm_notebook\n",
    "from keras.models import Sequential\n",
    "from keras.layers import Dense, Activation, LSTM, RNN, Conv2D, MaxPooling2D, Flatten, Dropout\n",
    "import time, datetime\n",
    "from IPython.display import clear_output\n",
    "from keras.models import model_from_json\n",
    "from uttt import UltimateTicTacToe\n",
    "from helper import Turns, GameState, switch_turns, current_milli_time\n",
    "import os\n",
    "import keras"
   ]
  },
  {
   "cell_type": "code",
   "execution_count": 13,
   "metadata": {},
   "outputs": [],
   "source": [
    "class NeuralNetwork:\n",
    "    def __init__(self):\n",
    "        self.model = Sequential()\n",
    "        self.features = None\n",
    "        self.labels = None\n",
    "    \n",
    "#     self.model = Sequential()\n",
    "#         self.model.add(Conv2D(128, kernel_size=(3, 3),\n",
    "#                          activation='relu',\n",
    "#                          input_shape=(9,9,2)))\n",
    "#         self.model.add(Conv2D(128, (3, 3), activation='relu'))\n",
    "#         self.model.add(MaxPooling2D(pool_size=(2, 2)))\n",
    "#         self.model.add(Dropout(0.2))\n",
    "#         self.model.add(Flatten())\n",
    "#         self.model.add(Dense(128, activation='relu'))\n",
    "#         self.model.add(Dropout(0.5))\n",
    "#         self.model.add(Dense(128, activation='relu'))\n",
    "#         self.model.add(Dropout(0.5))\n",
    "#         self.model.add(Dense(2, activation='softmax'))\n",
    "    \n",
    "    def csetup(self):\n",
    "        self.model = Sequential()\n",
    "        self.model.add(Conv2D(32, kernel_size=(3, 3),\n",
    "                 activation='relu',\n",
    "                 input_shape=(18,9,1)))\n",
    "        self.model.add(Conv2D(64, (3, 3), activation='relu'))\n",
    "        self.model.add(MaxPooling2D(pool_size=(2, 2)))\n",
    "        self.model.add(Dropout(0.25))\n",
    "        self.model.add(Flatten())\n",
    "        self.model.add(Dense(128, activation='relu'))\n",
    "        self.model.add(Dropout(0.5))\n",
    "        self.model.add(Dense(2, activation='softmax'))\n",
    "\n",
    "\n",
    "        self.model.compile(loss=keras.losses.categorical_crossentropy,\n",
    "              optimizer=keras.optimizers.Adadelta(),\n",
    "              metrics=['accuracy'])\n",
    "    \n",
    "    def setup(self):\n",
    "        self.model.add(Dense(128,input_shape=(162,)))\n",
    "        self.model.add(Activation('relu'))\n",
    "        self.model.add(Dense(256))\n",
    "        self.model.add(Activation('relu'))\n",
    "        self.model.add(Dense(128))\n",
    "        self.model.add(Activation('relu'))\n",
    "        self.model.add(Dense(2))\n",
    "        self.model.add(Activation('softmax'))\n",
    "\n",
    "        self.model.compile(loss='categorical_crossentropy',\n",
    "              optimizer='rmsprop',\n",
    "              metrics=['accuracy'])\n",
    "    \n",
    "    def train(self):\n",
    "        if self.features is None or self.labels is None:\n",
    "            print(\"Dude, you are missing data I think...\")\n",
    "            return\n",
    "        self.model.fit(self.features, self.labels, epochs=10, batch_size=32)\n",
    "\n",
    "    def set_data(self,features,labels):\n",
    "        self.features = features\n",
    "        self.labels = labels\n",
    "    \n",
    "    def predict(self,datum):\n",
    "        return self.model.predict(datum)\n",
    "    \n",
    "    def set_model(self, model):\n",
    "        self.model = model\n",
    "    \n",
    "    def save(self):\n",
    "        timestamp = datetime.datetime.fromtimestamp(time.time()).strftime('%Y-%m-%d %H:%M:%S')\n",
    "        # saving the model\n",
    "        model_json = self.model.to_json()\n",
    "        filename = \"models/\"+timestamp\n",
    "        os.makedirs(filename, exist_ok=True)\n",
    "        with open(\"models/\"+timestamp+\"/model.json\", \"w\") as json_file:\n",
    "            json_file.write(model_json)\n",
    "        # serialize weights to HDF5\n",
    "        self.model.save_weights(\"models/\"+timestamp+\"/weights.h5\")\n",
    "        print(\"Saved model to disk as with \"+timestamp+\" timestamp\")\n",
    "        \n",
    "    def load(self):\n",
    "        f = open(\"model.json\")\n",
    "        model = model_from_json(f.read())\n",
    "        f.close()\n",
    "        model.load_weights(\"weights.h5\")\n",
    "        print(\"Model loaded from the disk...\")\n",
    "        self.model = model\n",
    "        print(\"Model set to the Neural Network...\")\n",
    "        self.model.compile(loss='binary_crossentropy',\n",
    "              optimizer='rmsprop',\n",
    "              metrics=['accuracy'])\n",
    "        print(\"Model compiled...\")        "
   ]
  },
  {
   "cell_type": "code",
   "execution_count": 15,
   "metadata": {},
   "outputs": [],
   "source": [
    "class Randomizer:\n",
    "    def __init__(self, batch_size=100, q_val=1, stretch=1):\n",
    "        self.batch_size = batch_size\n",
    "        self.nn = NeuralNetwork()\n",
    "        self.initial_board = np.array([np.zeros(9) for _ in range(9)])\n",
    "        self.q_val = q_val\n",
    "        self.stretch = stretch\n",
    "        self.UTTT = UltimateTicTacToe(board=self.initial_board,last_turn=None)\n",
    "        self.nn.setup()\n",
    "        \n",
    "    def run(self):\n",
    "        features, labels = [], []\n",
    "        for _ in tqdm_notebook(range(self.batch_size),desc=\"Batch Run...\"):\n",
    "            feature, winner = self.play_a_random_game()\n",
    "            label = self.feature_and_label_of_memory(len(feature), winner)\n",
    "            features.extend(feature)\n",
    "            labels.extend(label)\n",
    "        self.train(np.array(features), np.array(labels))\n",
    "    \n",
    "    def crun(self):\n",
    "        features, labels = [], []\n",
    "        for _ in tqdm_notebook(range(self.batch_size),desc=\"Batch Run...\"):\n",
    "            feature, winner = self.play_a_random_game()\n",
    "            label = self.feature_and_label_of_memory(len(feature), winner)\n",
    "            features.extend([f.reshape((18,9,1)) for f in feature])\n",
    "            labels.extend(label)\n",
    "        self.train(np.array(features), np.array(labels))\n",
    "    \n",
    "    \n",
    "    def feature_and_label_of_memory(self, memory_len, winner):\n",
    "        labels = []\n",
    "        for i in range(memory_len):\n",
    "            label = None\n",
    "            value = self.q_val**(memory_len-(i+1)) * self.stretch\n",
    "            if winner==Turns.X.value:\n",
    "                label = np.array([value,0])\n",
    "            elif winner==Turns.O.value:\n",
    "                label = np.array([0,value])\n",
    "            else:\n",
    "                half_prob = value\n",
    "                label = np.array([half_prob, half_prob])\n",
    "            labels.append(label)\n",
    "        return labels\n",
    "                \n",
    "    def play_a_random_game(self): # returns the memory of the game with the winner\n",
    "            memory = []\n",
    "            uttt = copy.deepcopy(self.UTTT)\n",
    "            simulation_turn = Turns.X.value\n",
    "            while not uttt.is_game_done():\n",
    "                old_board = uttt.get_board_list().flatten()\n",
    "                move = random.choice(uttt.get_free_moves())\n",
    "                uttt.move(simulation_turn,*move)\n",
    "                new_board = uttt.get_board_list().flatten()\n",
    "                state = np.concatenate((old_board,new_board),axis=0) \n",
    "                simulation_turn = switch_turns(simulation_turn)\n",
    "                memory.append(state)\n",
    "            winner = uttt.get_winner() if uttt.get_winner() != None else 0\n",
    "            return memory, winner\n",
    "    \n",
    "    def train(self, features, labels):\n",
    "        self.nn.set_data(features, labels)\n",
    "        self.nn.train()\n",
    "#         clear_output()\n",
    "#         self.nn.save()\n",
    "        \n",
    "    def load_last_nn_model(self):\n",
    "        self.nn.load()"
   ]
  },
  {
   "cell_type": "code",
   "execution_count": 16,
   "metadata": {},
   "outputs": [],
   "source": [
    "# loading the last trained model\n",
    "randomizer = Randomizer(batch_size=1000)\n",
    "# randomizer.load_last_nn_model()"
   ]
  },
  {
   "cell_type": "code",
   "execution_count": 17,
   "metadata": {},
   "outputs": [
    {
     "data": {
      "application/vnd.jupyter.widget-view+json": {
       "model_id": "97c561b8d4bd417d8326ba9d43764edb",
       "version_major": 2,
       "version_minor": 0
      },
      "text/plain": [
       "HBox(children=(IntProgress(value=0, description='Batch Run...', max=1000), HTML(value='')))"
      ]
     },
     "metadata": {},
     "output_type": "display_data"
    },
    {
     "name": "stdout",
     "output_type": "stream",
     "text": [
      "\n"
     ]
    },
    {
     "ename": "KeyboardInterrupt",
     "evalue": "",
     "output_type": "error",
     "traceback": [
      "\u001b[0;31m---------------------------------------------------------------------------\u001b[0m",
      "\u001b[0;31mKeyboardInterrupt\u001b[0m                         Traceback (most recent call last)",
      "\u001b[0;32m<ipython-input-17-b818ba60c9df>\u001b[0m in \u001b[0;36m<module>\u001b[0;34m()\u001b[0m\n\u001b[1;32m      1\u001b[0m \u001b[0mnow\u001b[0m \u001b[0;34m=\u001b[0m \u001b[0mcurrent_milli_time\u001b[0m\u001b[0;34m(\u001b[0m\u001b[0;34m)\u001b[0m\u001b[0;34m\u001b[0m\u001b[0m\n\u001b[1;32m      2\u001b[0m \u001b[0;32mfor\u001b[0m \u001b[0m_\u001b[0m \u001b[0;32min\u001b[0m \u001b[0mrange\u001b[0m\u001b[0;34m(\u001b[0m\u001b[0;36m1\u001b[0m\u001b[0;34m)\u001b[0m\u001b[0;34m:\u001b[0m\u001b[0;34m\u001b[0m\u001b[0m\n\u001b[0;32m----> 3\u001b[0;31m     \u001b[0mrandomizer\u001b[0m\u001b[0;34m.\u001b[0m\u001b[0mcrun\u001b[0m\u001b[0;34m(\u001b[0m\u001b[0;34m)\u001b[0m\u001b[0;34m\u001b[0m\u001b[0m\n\u001b[0m\u001b[1;32m      4\u001b[0m \u001b[0;34m\u001b[0m\u001b[0m\n",
      "\u001b[0;32m<ipython-input-15-7c2d29f48587>\u001b[0m in \u001b[0;36mcrun\u001b[0;34m(self)\u001b[0m\n\u001b[1;32m     21\u001b[0m         \u001b[0mfeatures\u001b[0m\u001b[0;34m,\u001b[0m \u001b[0mlabels\u001b[0m \u001b[0;34m=\u001b[0m \u001b[0;34m[\u001b[0m\u001b[0;34m]\u001b[0m\u001b[0;34m,\u001b[0m \u001b[0;34m[\u001b[0m\u001b[0;34m]\u001b[0m\u001b[0;34m\u001b[0m\u001b[0m\n\u001b[1;32m     22\u001b[0m         \u001b[0;32mfor\u001b[0m \u001b[0m_\u001b[0m \u001b[0;32min\u001b[0m \u001b[0mtqdm_notebook\u001b[0m\u001b[0;34m(\u001b[0m\u001b[0mrange\u001b[0m\u001b[0;34m(\u001b[0m\u001b[0mself\u001b[0m\u001b[0;34m.\u001b[0m\u001b[0mbatch_size\u001b[0m\u001b[0;34m)\u001b[0m\u001b[0;34m,\u001b[0m\u001b[0mdesc\u001b[0m\u001b[0;34m=\u001b[0m\u001b[0;34m\"Batch Run...\"\u001b[0m\u001b[0;34m)\u001b[0m\u001b[0;34m:\u001b[0m\u001b[0;34m\u001b[0m\u001b[0m\n\u001b[0;32m---> 23\u001b[0;31m             \u001b[0mfeature\u001b[0m\u001b[0;34m,\u001b[0m \u001b[0mwinner\u001b[0m \u001b[0;34m=\u001b[0m \u001b[0mself\u001b[0m\u001b[0;34m.\u001b[0m\u001b[0mplay_a_random_game\u001b[0m\u001b[0;34m(\u001b[0m\u001b[0;34m)\u001b[0m\u001b[0;34m\u001b[0m\u001b[0m\n\u001b[0m\u001b[1;32m     24\u001b[0m             \u001b[0mlabel\u001b[0m \u001b[0;34m=\u001b[0m \u001b[0mself\u001b[0m\u001b[0;34m.\u001b[0m\u001b[0mfeature_and_label_of_memory\u001b[0m\u001b[0;34m(\u001b[0m\u001b[0mlen\u001b[0m\u001b[0;34m(\u001b[0m\u001b[0mfeature\u001b[0m\u001b[0;34m)\u001b[0m\u001b[0;34m,\u001b[0m \u001b[0mwinner\u001b[0m\u001b[0;34m)\u001b[0m\u001b[0;34m\u001b[0m\u001b[0m\n\u001b[1;32m     25\u001b[0m             \u001b[0mfeatures\u001b[0m\u001b[0;34m.\u001b[0m\u001b[0mextend\u001b[0m\u001b[0;34m(\u001b[0m\u001b[0;34m[\u001b[0m\u001b[0mf\u001b[0m\u001b[0;34m.\u001b[0m\u001b[0mreshape\u001b[0m\u001b[0;34m(\u001b[0m\u001b[0;34m(\u001b[0m\u001b[0;36m18\u001b[0m\u001b[0;34m,\u001b[0m\u001b[0;36m9\u001b[0m\u001b[0;34m,\u001b[0m\u001b[0;36m1\u001b[0m\u001b[0;34m)\u001b[0m\u001b[0;34m)\u001b[0m \u001b[0;32mfor\u001b[0m \u001b[0mf\u001b[0m \u001b[0;32min\u001b[0m \u001b[0mfeature\u001b[0m\u001b[0;34m]\u001b[0m\u001b[0;34m)\u001b[0m\u001b[0;34m\u001b[0m\u001b[0m\n",
      "\u001b[0;32m<ipython-input-15-7c2d29f48587>\u001b[0m in \u001b[0;36mplay_a_random_game\u001b[0;34m(self)\u001b[0m\n\u001b[1;32m     52\u001b[0m                 \u001b[0muttt\u001b[0m\u001b[0;34m.\u001b[0m\u001b[0mmove\u001b[0m\u001b[0;34m(\u001b[0m\u001b[0msimulation_turn\u001b[0m\u001b[0;34m,\u001b[0m\u001b[0;34m*\u001b[0m\u001b[0mmove\u001b[0m\u001b[0;34m)\u001b[0m\u001b[0;34m\u001b[0m\u001b[0m\n\u001b[1;32m     53\u001b[0m                 \u001b[0mnew_board\u001b[0m \u001b[0;34m=\u001b[0m \u001b[0muttt\u001b[0m\u001b[0;34m.\u001b[0m\u001b[0mget_board_list\u001b[0m\u001b[0;34m(\u001b[0m\u001b[0;34m)\u001b[0m\u001b[0;34m.\u001b[0m\u001b[0mflatten\u001b[0m\u001b[0;34m(\u001b[0m\u001b[0;34m)\u001b[0m\u001b[0;34m\u001b[0m\u001b[0m\n\u001b[0;32m---> 54\u001b[0;31m                 \u001b[0mstate\u001b[0m \u001b[0;34m=\u001b[0m \u001b[0mnp\u001b[0m\u001b[0;34m.\u001b[0m\u001b[0mconcatenate\u001b[0m\u001b[0;34m(\u001b[0m\u001b[0;34m(\u001b[0m\u001b[0mold_board\u001b[0m\u001b[0;34m,\u001b[0m\u001b[0mnew_board\u001b[0m\u001b[0;34m)\u001b[0m\u001b[0;34m,\u001b[0m\u001b[0maxis\u001b[0m\u001b[0;34m=\u001b[0m\u001b[0;36m0\u001b[0m\u001b[0;34m)\u001b[0m\u001b[0;34m\u001b[0m\u001b[0m\n\u001b[0m\u001b[1;32m     55\u001b[0m                 \u001b[0msimulation_turn\u001b[0m \u001b[0;34m=\u001b[0m \u001b[0mswitch_turns\u001b[0m\u001b[0;34m(\u001b[0m\u001b[0msimulation_turn\u001b[0m\u001b[0;34m)\u001b[0m\u001b[0;34m\u001b[0m\u001b[0m\n\u001b[1;32m     56\u001b[0m                 \u001b[0mmemory\u001b[0m\u001b[0;34m.\u001b[0m\u001b[0mappend\u001b[0m\u001b[0;34m(\u001b[0m\u001b[0mstate\u001b[0m\u001b[0;34m)\u001b[0m\u001b[0;34m\u001b[0m\u001b[0m\n",
      "\u001b[0;31mKeyboardInterrupt\u001b[0m: "
     ]
    }
   ],
   "source": [
    "now = current_milli_time()\n",
    "for _ in range(1):\n",
    "    randomizer.crun()\n",
    "    "
   ]
  },
  {
   "cell_type": "code",
   "execution_count": 8,
   "metadata": {},
   "outputs": [
    {
     "name": "stdout",
     "output_type": "stream",
     "text": [
      "Saved model to disk as with 2018-07-27 14:45:19 timestamp\n"
     ]
    }
   ],
   "source": [
    "randomizer.nn.save()"
   ]
  }
 ],
 "metadata": {
  "kernelspec": {
   "display_name": "Python 3",
   "language": "python",
   "name": "python3"
  },
  "language_info": {
   "codemirror_mode": {
    "name": "ipython",
    "version": 3
   },
   "file_extension": ".py",
   "mimetype": "text/x-python",
   "name": "python",
   "nbconvert_exporter": "python",
   "pygments_lexer": "ipython3",
   "version": "3.6.5"
  }
 },
 "nbformat": 4,
 "nbformat_minor": 2
}
