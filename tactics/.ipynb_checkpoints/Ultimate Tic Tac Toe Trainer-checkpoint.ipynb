{
 "cells": [
  {
   "cell_type": "code",
   "execution_count": 4,
   "metadata": {},
   "outputs": [
    {
     "ename": "ModuleNotFoundError",
     "evalue": "No module named 'tactics'",
     "output_type": "error",
     "traceback": [
      "\u001b[0;31m---------------------------------------------------------------------------\u001b[0m",
      "\u001b[0;31mModuleNotFoundError\u001b[0m                       Traceback (most recent call last)",
      "\u001b[0;32m<ipython-input-4-ef8ba829c14a>\u001b[0m in \u001b[0;36m<module>\u001b[0;34m()\u001b[0m\n\u001b[1;32m     10\u001b[0m \u001b[0;32mfrom\u001b[0m \u001b[0mIPython\u001b[0m\u001b[0;34m.\u001b[0m\u001b[0mdisplay\u001b[0m \u001b[0;32mimport\u001b[0m \u001b[0mclear_output\u001b[0m\u001b[0;34m\u001b[0m\u001b[0m\n\u001b[1;32m     11\u001b[0m \u001b[0;32mfrom\u001b[0m \u001b[0mkeras\u001b[0m\u001b[0;34m.\u001b[0m\u001b[0mmodels\u001b[0m \u001b[0;32mimport\u001b[0m \u001b[0mmodel_from_json\u001b[0m\u001b[0;34m\u001b[0m\u001b[0m\n\u001b[0;32m---> 12\u001b[0;31m \u001b[0;32mfrom\u001b[0m \u001b[0mtactics\u001b[0m\u001b[0;34m.\u001b[0m\u001b[0muttt\u001b[0m \u001b[0;32mimport\u001b[0m \u001b[0mUltimateTicTacToe\u001b[0m\u001b[0;34m\u001b[0m\u001b[0m\n\u001b[0m",
      "\u001b[0;31mModuleNotFoundError\u001b[0m: No module named 'tactics'"
     ]
    }
   ],
   "source": [
    "import numpy as np\n",
    "from enum import Enum\n",
    "import random \n",
    "import copy\n",
    "import pickle \n",
    "from tqdm import tqdm_notebook\n",
    "from keras.models import Sequential\n",
    "from keras.layers import Dense, Activation, LSTM, RNN\n",
    "import time\n",
    "from IPython.display import clear_output\n",
    "from keras.models import model_from_json\n",
    "from tactics.uttt import UltimateTicTacToe"
   ]
  },
  {
   "cell_type": "code",
   "execution_count": 3,
   "metadata": {},
   "outputs": [],
   "source": [
    "class NeuralNetwork:\n",
    "    def __init__(self):\n",
    "        self.model = Sequential()\n",
    "        self.setup()\n",
    "        self.features = None\n",
    "        self.labels = None\n",
    "    \n",
    "    def setup(self):\n",
    "        self.model.add(Dense(8,input_shape=(162,)))\n",
    "        self.model.add(Activation('relu'))\n",
    "        self.model.add(Dense(256))\n",
    "        self.model.add(Activation('relu'))\n",
    "        self.model.add(Dense(512))\n",
    "        self.model.add(Activation('relu'))\n",
    "        self.model.add(Dense(256))\n",
    "        self.model.add(Activation('relu'))\n",
    "        self.model.add(Dense(2))\n",
    "        self.model.add(Activation('softmax'))\n",
    "\n",
    "        self.model.compile(loss='binary_crossentropy',\n",
    "              optimizer='rmsprop',\n",
    "              metrics=['accuracy'])\n",
    "    \n",
    "    def train(self):\n",
    "        if self.features is None or self.labels is None:\n",
    "            print(\"Dude, you are missing data I think...\")\n",
    "            return\n",
    "        self.model.fit(self.features, self.labels, epochs=10, batch_size=32)\n",
    "\n",
    "    def set_data(self,features,labels):\n",
    "        self.features = features\n",
    "        self.labels = labels\n",
    "    \n",
    "    def predict(self,datum):\n",
    "        return self.model.predict(datum)\n",
    "    \n",
    "    def set_model(self, model):\n",
    "        self.model = model"
   ]
  },
  {
   "cell_type": "code",
   "execution_count": null,
   "metadata": {},
   "outputs": [],
   "source": [
    "class Randomizer:\n",
    "    def __init__(self,batch_size=100):\n",
    "        self.batch_size = batch_size\n",
    "        self.nn = NeuralNetwork()\n",
    "        self.initial_board = np.array([np.zeros(9) for _ range in (9)])\n",
    "    \n",
    "    def play_random_game(self):\n",
    "        "
   ]
  }
 ],
 "metadata": {
  "kernelspec": {
   "display_name": "Python 3",
   "language": "python",
   "name": "python3"
  },
  "language_info": {
   "codemirror_mode": {
    "name": "ipython",
    "version": 3
   },
   "file_extension": ".py",
   "mimetype": "text/x-python",
   "name": "python",
   "nbconvert_exporter": "python",
   "pygments_lexer": "ipython3",
   "version": "3.6.5"
  }
 },
 "nbformat": 4,
 "nbformat_minor": 2
}
